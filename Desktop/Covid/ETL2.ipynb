{
 "cells": [
  {
   "cell_type": "code",
   "execution_count": 11,
   "metadata": {},
   "outputs": [],
   "source": [
    "#importing the data\n",
    "import pandas as pd"
   ]
  },
  {
   "cell_type": "code",
   "execution_count": 17,
   "metadata": {},
   "outputs": [],
   "source": [
    "loadData = \"/Users/ankbohra/Desktop/Covid/Resource/Caused of Deaths.csv\""
   ]
  },
  {
   "cell_type": "code",
   "execution_count": 18,
   "metadata": {},
   "outputs": [],
   "source": [
    "#reading the death data\n",
    "loadData = pd.read_csv(loadData)"
   ]
  },
  {
   "cell_type": "code",
   "execution_count": 19,
   "metadata": {},
   "outputs": [
    {
     "output_type": "execute_result",
     "data": {
      "text/plain": "                    Country ISO_CODE  Year  Deaths                   Cause  \\\n0               Afghanistan      AFG  1980   35000  Conflict and Terrorism   \n1                   Albania      ALB  1980       0  Conflict and Terrorism   \n2                   Algeria      DZA  1980       0  Conflict and Terrorism   \n3            American Samoa      ASM  1980       0  Conflict and Terrorism   \n4                    Angola      AGO  1980    5882  Conflict and Terrorism   \n...                     ...      ...   ...     ...                     ...   \n36855               Vietnam      VNM  2017       0          Other Injuries   \n36856  Virgin Islands, U.S.      VGB  2017       0          Other Injuries   \n36857                 Yemen      YEM  2017      21          Other Injuries   \n36858                Zambia      ZMB  2017       0          Other Injuries   \n36859              Zimbabwe      ZWE  2017      64          Other Injuries   \n\n         Male POP  Female POP   Total Pop           GDP         PCAP  \n0       6788279.0   6568232.0  13356511.0  3.641723e+09   272.655286  \n1       1371795.0   1300202.0   2671997.0           NaN          NaN  \n2       9682121.0   9539544.0  19221665.0  4.234528e+10  2202.997365  \n3             NaN         NaN         NaN           NaN          NaN  \n4       4226098.0   4115191.0   8341289.0  5.930503e+09   710.981648  \n...           ...         ...         ...           ...          ...  \n36855  47191019.0  47405623.0  94596642.0  2.237799e+11  2365.621666  \n36856         NaN         NaN         NaN           NaN          NaN  \n36857  14027304.0  13807517.0  27834821.0  2.456133e+10   882.395759  \n36858   8342800.0   8510888.0  16853688.0  2.586814e+10  1534.865371  \n36859   6777124.0   7459621.0  14236745.0  2.204090e+10  1548.170056  \n\n[36860 rows x 10 columns]",
      "text/html": "<div>\n<style scoped>\n    .dataframe tbody tr th:only-of-type {\n        vertical-align: middle;\n    }\n\n    .dataframe tbody tr th {\n        vertical-align: top;\n    }\n\n    .dataframe thead th {\n        text-align: right;\n    }\n</style>\n<table border=\"1\" class=\"dataframe\">\n  <thead>\n    <tr style=\"text-align: right;\">\n      <th></th>\n      <th>Country</th>\n      <th>ISO_CODE</th>\n      <th>Year</th>\n      <th>Deaths</th>\n      <th>Cause</th>\n      <th>Male POP</th>\n      <th>Female POP</th>\n      <th>Total Pop</th>\n      <th>GDP</th>\n      <th>PCAP</th>\n    </tr>\n  </thead>\n  <tbody>\n    <tr>\n      <th>0</th>\n      <td>Afghanistan</td>\n      <td>AFG</td>\n      <td>1980</td>\n      <td>35000</td>\n      <td>Conflict and Terrorism</td>\n      <td>6788279.0</td>\n      <td>6568232.0</td>\n      <td>13356511.0</td>\n      <td>3.641723e+09</td>\n      <td>272.655286</td>\n    </tr>\n    <tr>\n      <th>1</th>\n      <td>Albania</td>\n      <td>ALB</td>\n      <td>1980</td>\n      <td>0</td>\n      <td>Conflict and Terrorism</td>\n      <td>1371795.0</td>\n      <td>1300202.0</td>\n      <td>2671997.0</td>\n      <td>NaN</td>\n      <td>NaN</td>\n    </tr>\n    <tr>\n      <th>2</th>\n      <td>Algeria</td>\n      <td>DZA</td>\n      <td>1980</td>\n      <td>0</td>\n      <td>Conflict and Terrorism</td>\n      <td>9682121.0</td>\n      <td>9539544.0</td>\n      <td>19221665.0</td>\n      <td>4.234528e+10</td>\n      <td>2202.997365</td>\n    </tr>\n    <tr>\n      <th>3</th>\n      <td>American Samoa</td>\n      <td>ASM</td>\n      <td>1980</td>\n      <td>0</td>\n      <td>Conflict and Terrorism</td>\n      <td>NaN</td>\n      <td>NaN</td>\n      <td>NaN</td>\n      <td>NaN</td>\n      <td>NaN</td>\n    </tr>\n    <tr>\n      <th>4</th>\n      <td>Angola</td>\n      <td>AGO</td>\n      <td>1980</td>\n      <td>5882</td>\n      <td>Conflict and Terrorism</td>\n      <td>4226098.0</td>\n      <td>4115191.0</td>\n      <td>8341289.0</td>\n      <td>5.930503e+09</td>\n      <td>710.981648</td>\n    </tr>\n    <tr>\n      <th>...</th>\n      <td>...</td>\n      <td>...</td>\n      <td>...</td>\n      <td>...</td>\n      <td>...</td>\n      <td>...</td>\n      <td>...</td>\n      <td>...</td>\n      <td>...</td>\n      <td>...</td>\n    </tr>\n    <tr>\n      <th>36855</th>\n      <td>Vietnam</td>\n      <td>VNM</td>\n      <td>2017</td>\n      <td>0</td>\n      <td>Other Injuries</td>\n      <td>47191019.0</td>\n      <td>47405623.0</td>\n      <td>94596642.0</td>\n      <td>2.237799e+11</td>\n      <td>2365.621666</td>\n    </tr>\n    <tr>\n      <th>36856</th>\n      <td>Virgin Islands, U.S.</td>\n      <td>VGB</td>\n      <td>2017</td>\n      <td>0</td>\n      <td>Other Injuries</td>\n      <td>NaN</td>\n      <td>NaN</td>\n      <td>NaN</td>\n      <td>NaN</td>\n      <td>NaN</td>\n    </tr>\n    <tr>\n      <th>36857</th>\n      <td>Yemen</td>\n      <td>YEM</td>\n      <td>2017</td>\n      <td>21</td>\n      <td>Other Injuries</td>\n      <td>14027304.0</td>\n      <td>13807517.0</td>\n      <td>27834821.0</td>\n      <td>2.456133e+10</td>\n      <td>882.395759</td>\n    </tr>\n    <tr>\n      <th>36858</th>\n      <td>Zambia</td>\n      <td>ZMB</td>\n      <td>2017</td>\n      <td>0</td>\n      <td>Other Injuries</td>\n      <td>8342800.0</td>\n      <td>8510888.0</td>\n      <td>16853688.0</td>\n      <td>2.586814e+10</td>\n      <td>1534.865371</td>\n    </tr>\n    <tr>\n      <th>36859</th>\n      <td>Zimbabwe</td>\n      <td>ZWE</td>\n      <td>2017</td>\n      <td>64</td>\n      <td>Other Injuries</td>\n      <td>6777124.0</td>\n      <td>7459621.0</td>\n      <td>14236745.0</td>\n      <td>2.204090e+10</td>\n      <td>1548.170056</td>\n    </tr>\n  </tbody>\n</table>\n<p>36860 rows × 10 columns</p>\n</div>"
     },
     "metadata": {},
     "execution_count": 19
    }
   ],
   "source": [
    "loadData"
   ]
  },
  {
   "cell_type": "code",
   "execution_count": 21,
   "metadata": {},
   "outputs": [],
   "source": [
    "# creating a dataframe groupby Country and Cause of Death\n",
    "deathdata = pd.DataFrame({\"Deaths\":loadData.groupby([\"Country\",\"Cause\"])[\"Deaths\"].sum()})\n"
   ]
  },
  {
   "cell_type": "code",
   "execution_count": 22,
   "metadata": {},
   "outputs": [],
   "source": [
    "# after creating a dataframe we have total death cause by each factor in each country , then we reset the index\n",
    "deathdata\n",
    "deathdata = deathdata.reset_index()"
   ]
  },
  {
   "cell_type": "code",
   "execution_count": 88,
   "metadata": {},
   "outputs": [
    {
     "output_type": "execute_result",
     "data": {
      "text/plain": "         Country                   Cause  Deaths\n0    Afghanistan  Conflict and Terrorism  651211\n1    Afghanistan               Epidemics    2352\n2    Afghanistan                  Famine      36\n3    Afghanistan        Natural Disaster   15350\n4    Afghanistan          Other Injuries    5587\n..           ...                     ...     ...\n965     Zimbabwe  Conflict and Terrorism     750\n966     Zimbabwe               Epidemics    8793\n967     Zimbabwe                  Famine       0\n968     Zimbabwe        Natural Disaster     299\n969     Zimbabwe          Other Injuries    1052\n\n[970 rows x 3 columns]",
      "text/html": "<div>\n<style scoped>\n    .dataframe tbody tr th:only-of-type {\n        vertical-align: middle;\n    }\n\n    .dataframe tbody tr th {\n        vertical-align: top;\n    }\n\n    .dataframe thead th {\n        text-align: right;\n    }\n</style>\n<table border=\"1\" class=\"dataframe\">\n  <thead>\n    <tr style=\"text-align: right;\">\n      <th></th>\n      <th>Country</th>\n      <th>Cause</th>\n      <th>Deaths</th>\n    </tr>\n  </thead>\n  <tbody>\n    <tr>\n      <th>0</th>\n      <td>Afghanistan</td>\n      <td>Conflict and Terrorism</td>\n      <td>651211</td>\n    </tr>\n    <tr>\n      <th>1</th>\n      <td>Afghanistan</td>\n      <td>Epidemics</td>\n      <td>2352</td>\n    </tr>\n    <tr>\n      <th>2</th>\n      <td>Afghanistan</td>\n      <td>Famine</td>\n      <td>36</td>\n    </tr>\n    <tr>\n      <th>3</th>\n      <td>Afghanistan</td>\n      <td>Natural Disaster</td>\n      <td>15350</td>\n    </tr>\n    <tr>\n      <th>4</th>\n      <td>Afghanistan</td>\n      <td>Other Injuries</td>\n      <td>5587</td>\n    </tr>\n    <tr>\n      <th>...</th>\n      <td>...</td>\n      <td>...</td>\n      <td>...</td>\n    </tr>\n    <tr>\n      <th>965</th>\n      <td>Zimbabwe</td>\n      <td>Conflict and Terrorism</td>\n      <td>750</td>\n    </tr>\n    <tr>\n      <th>966</th>\n      <td>Zimbabwe</td>\n      <td>Epidemics</td>\n      <td>8793</td>\n    </tr>\n    <tr>\n      <th>967</th>\n      <td>Zimbabwe</td>\n      <td>Famine</td>\n      <td>0</td>\n    </tr>\n    <tr>\n      <th>968</th>\n      <td>Zimbabwe</td>\n      <td>Natural Disaster</td>\n      <td>299</td>\n    </tr>\n    <tr>\n      <th>969</th>\n      <td>Zimbabwe</td>\n      <td>Other Injuries</td>\n      <td>1052</td>\n    </tr>\n  </tbody>\n</table>\n<p>970 rows × 3 columns</p>\n</div>"
     },
     "metadata": {},
     "execution_count": 88
    }
   ],
   "source": [
    "deathdata"
   ]
  },
  {
   "cell_type": "code",
   "execution_count": 89,
   "metadata": {},
   "outputs": [],
   "source": [
    "#here we create 5 data frame with respect to casue making as a main filter in each category \n",
    "tDeath = deathdata.loc[deathdata['Cause'] == 'Conflict and Terrorism']\n",
    "eDeath = deathdata.loc[deathdata['Cause'] == 'Epidemics']\n",
    "fDeath = deathdata.loc[deathdata['Cause'] == 'Famine']\n",
    "nDeath = deathdata.loc[deathdata['Cause'] == 'Natural Disaster']\n",
    "oDeath = deathdata.loc[deathdata['Cause'] == 'Other Injuries']\n"
   ]
  },
  {
   "cell_type": "code",
   "execution_count": 90,
   "metadata": {},
   "outputs": [
    {
     "output_type": "execute_result",
     "data": {
      "text/plain": "                  Country      Cause  Deaths\n1             Afghanistan  Epidemics    2352\n6                 Albania  Epidemics      25\n11                Algeria  Epidemics     173\n16         American Samoa  Epidemics       0\n21                 Angola  Epidemics   12912\n..                    ...        ...     ...\n946               Vietnam  Epidemics    1712\n951  Virgin Islands, U.S.  Epidemics       0\n956                 Yemen  Epidemics    2080\n961                Zambia  Epidemics   12083\n966              Zimbabwe  Epidemics    8793\n\n[194 rows x 3 columns]",
      "text/html": "<div>\n<style scoped>\n    .dataframe tbody tr th:only-of-type {\n        vertical-align: middle;\n    }\n\n    .dataframe tbody tr th {\n        vertical-align: top;\n    }\n\n    .dataframe thead th {\n        text-align: right;\n    }\n</style>\n<table border=\"1\" class=\"dataframe\">\n  <thead>\n    <tr style=\"text-align: right;\">\n      <th></th>\n      <th>Country</th>\n      <th>Cause</th>\n      <th>Deaths</th>\n    </tr>\n  </thead>\n  <tbody>\n    <tr>\n      <th>1</th>\n      <td>Afghanistan</td>\n      <td>Epidemics</td>\n      <td>2352</td>\n    </tr>\n    <tr>\n      <th>6</th>\n      <td>Albania</td>\n      <td>Epidemics</td>\n      <td>25</td>\n    </tr>\n    <tr>\n      <th>11</th>\n      <td>Algeria</td>\n      <td>Epidemics</td>\n      <td>173</td>\n    </tr>\n    <tr>\n      <th>16</th>\n      <td>American Samoa</td>\n      <td>Epidemics</td>\n      <td>0</td>\n    </tr>\n    <tr>\n      <th>21</th>\n      <td>Angola</td>\n      <td>Epidemics</td>\n      <td>12912</td>\n    </tr>\n    <tr>\n      <th>...</th>\n      <td>...</td>\n      <td>...</td>\n      <td>...</td>\n    </tr>\n    <tr>\n      <th>946</th>\n      <td>Vietnam</td>\n      <td>Epidemics</td>\n      <td>1712</td>\n    </tr>\n    <tr>\n      <th>951</th>\n      <td>Virgin Islands, U.S.</td>\n      <td>Epidemics</td>\n      <td>0</td>\n    </tr>\n    <tr>\n      <th>956</th>\n      <td>Yemen</td>\n      <td>Epidemics</td>\n      <td>2080</td>\n    </tr>\n    <tr>\n      <th>961</th>\n      <td>Zambia</td>\n      <td>Epidemics</td>\n      <td>12083</td>\n    </tr>\n    <tr>\n      <th>966</th>\n      <td>Zimbabwe</td>\n      <td>Epidemics</td>\n      <td>8793</td>\n    </tr>\n  </tbody>\n</table>\n<p>194 rows × 3 columns</p>\n</div>"
     },
     "metadata": {},
     "execution_count": 90
    }
   ],
   "source": [
    "# after filter we will have a total death casue with that catergory within all country \n",
    "eDeath"
   ]
  },
  {
   "cell_type": "code",
   "execution_count": 91,
   "metadata": {},
   "outputs": [],
   "source": [
    "# then we want to extract the two column as Cause of death is same of all the country \n",
    "tDeath = tDeath[['Country', 'Deaths']].copy()\n",
    "eDeath = eDeath[['Country', 'Deaths']].copy()\n",
    "fDeath = fDeath[['Country', 'Deaths']].copy()\n",
    "nDeath = nDeath[['Country', 'Deaths']].copy()\n",
    "oDeath = oDeath[['Country', 'Deaths']].copy()"
   ]
  },
  {
   "cell_type": "code",
   "execution_count": 92,
   "metadata": {},
   "outputs": [],
   "source": [
    "# update the columns name from death to maain cause of death \n",
    "tDeath = tDeath.rename(columns= {'Deaths': 'Conflict and Terrorism'})"
   ]
  },
  {
   "cell_type": "code",
   "execution_count": 93,
   "metadata": {},
   "outputs": [
    {
     "output_type": "execute_result",
     "data": {
      "text/plain": "                  Country  Conflict and Terrorism\n0             Afghanistan                  651211\n5                 Albania                    2101\n10                Algeria                   30919\n15         American Samoa                      10\n20                 Angola                  110906\n..                    ...                     ...\n945               Vietnam                     275\n950  Virgin Islands, U.S.                       4\n955                 Yemen                   65961\n960                Zambia                     227\n965              Zimbabwe                     750\n\n[194 rows x 2 columns]",
      "text/html": "<div>\n<style scoped>\n    .dataframe tbody tr th:only-of-type {\n        vertical-align: middle;\n    }\n\n    .dataframe tbody tr th {\n        vertical-align: top;\n    }\n\n    .dataframe thead th {\n        text-align: right;\n    }\n</style>\n<table border=\"1\" class=\"dataframe\">\n  <thead>\n    <tr style=\"text-align: right;\">\n      <th></th>\n      <th>Country</th>\n      <th>Conflict and Terrorism</th>\n    </tr>\n  </thead>\n  <tbody>\n    <tr>\n      <th>0</th>\n      <td>Afghanistan</td>\n      <td>651211</td>\n    </tr>\n    <tr>\n      <th>5</th>\n      <td>Albania</td>\n      <td>2101</td>\n    </tr>\n    <tr>\n      <th>10</th>\n      <td>Algeria</td>\n      <td>30919</td>\n    </tr>\n    <tr>\n      <th>15</th>\n      <td>American Samoa</td>\n      <td>10</td>\n    </tr>\n    <tr>\n      <th>20</th>\n      <td>Angola</td>\n      <td>110906</td>\n    </tr>\n    <tr>\n      <th>...</th>\n      <td>...</td>\n      <td>...</td>\n    </tr>\n    <tr>\n      <th>945</th>\n      <td>Vietnam</td>\n      <td>275</td>\n    </tr>\n    <tr>\n      <th>950</th>\n      <td>Virgin Islands, U.S.</td>\n      <td>4</td>\n    </tr>\n    <tr>\n      <th>955</th>\n      <td>Yemen</td>\n      <td>65961</td>\n    </tr>\n    <tr>\n      <th>960</th>\n      <td>Zambia</td>\n      <td>227</td>\n    </tr>\n    <tr>\n      <th>965</th>\n      <td>Zimbabwe</td>\n      <td>750</td>\n    </tr>\n  </tbody>\n</table>\n<p>194 rows × 2 columns</p>\n</div>"
     },
     "metadata": {},
     "execution_count": 93
    }
   ],
   "source": [
    "tDeath"
   ]
  },
  {
   "cell_type": "code",
   "execution_count": 94,
   "metadata": {},
   "outputs": [],
   "source": [
    "eDeath = eDeath.rename(columns= {'Deaths': 'Epidemics'})"
   ]
  },
  {
   "cell_type": "code",
   "execution_count": 95,
   "metadata": {},
   "outputs": [
    {
     "output_type": "execute_result",
     "data": {
      "text/plain": "                  Country  Epidemics\n1             Afghanistan       2352\n6                 Albania         25\n11                Algeria        173\n16         American Samoa          0\n21                 Angola      12912\n..                    ...        ...\n946               Vietnam       1712\n951  Virgin Islands, U.S.          0\n956                 Yemen       2080\n961                Zambia      12083\n966              Zimbabwe       8793\n\n[194 rows x 2 columns]",
      "text/html": "<div>\n<style scoped>\n    .dataframe tbody tr th:only-of-type {\n        vertical-align: middle;\n    }\n\n    .dataframe tbody tr th {\n        vertical-align: top;\n    }\n\n    .dataframe thead th {\n        text-align: right;\n    }\n</style>\n<table border=\"1\" class=\"dataframe\">\n  <thead>\n    <tr style=\"text-align: right;\">\n      <th></th>\n      <th>Country</th>\n      <th>Epidemics</th>\n    </tr>\n  </thead>\n  <tbody>\n    <tr>\n      <th>1</th>\n      <td>Afghanistan</td>\n      <td>2352</td>\n    </tr>\n    <tr>\n      <th>6</th>\n      <td>Albania</td>\n      <td>25</td>\n    </tr>\n    <tr>\n      <th>11</th>\n      <td>Algeria</td>\n      <td>173</td>\n    </tr>\n    <tr>\n      <th>16</th>\n      <td>American Samoa</td>\n      <td>0</td>\n    </tr>\n    <tr>\n      <th>21</th>\n      <td>Angola</td>\n      <td>12912</td>\n    </tr>\n    <tr>\n      <th>...</th>\n      <td>...</td>\n      <td>...</td>\n    </tr>\n    <tr>\n      <th>946</th>\n      <td>Vietnam</td>\n      <td>1712</td>\n    </tr>\n    <tr>\n      <th>951</th>\n      <td>Virgin Islands, U.S.</td>\n      <td>0</td>\n    </tr>\n    <tr>\n      <th>956</th>\n      <td>Yemen</td>\n      <td>2080</td>\n    </tr>\n    <tr>\n      <th>961</th>\n      <td>Zambia</td>\n      <td>12083</td>\n    </tr>\n    <tr>\n      <th>966</th>\n      <td>Zimbabwe</td>\n      <td>8793</td>\n    </tr>\n  </tbody>\n</table>\n<p>194 rows × 2 columns</p>\n</div>"
     },
     "metadata": {},
     "execution_count": 95
    }
   ],
   "source": [
    "eDeath"
   ]
  },
  {
   "cell_type": "code",
   "execution_count": 96,
   "metadata": {},
   "outputs": [],
   "source": [
    "fDeath = fDeath.rename(columns= {'Deaths': 'Famine'})"
   ]
  },
  {
   "cell_type": "code",
   "execution_count": 97,
   "metadata": {},
   "outputs": [
    {
     "output_type": "execute_result",
     "data": {
      "text/plain": "                  Country  Famine\n2             Afghanistan      36\n7                 Albania       0\n12                Algeria       0\n17         American Samoa       0\n22                 Angola      58\n..                    ...     ...\n947               Vietnam       0\n952  Virgin Islands, U.S.       0\n957                 Yemen       0\n962                Zambia       0\n967              Zimbabwe       0\n\n[194 rows x 2 columns]",
      "text/html": "<div>\n<style scoped>\n    .dataframe tbody tr th:only-of-type {\n        vertical-align: middle;\n    }\n\n    .dataframe tbody tr th {\n        vertical-align: top;\n    }\n\n    .dataframe thead th {\n        text-align: right;\n    }\n</style>\n<table border=\"1\" class=\"dataframe\">\n  <thead>\n    <tr style=\"text-align: right;\">\n      <th></th>\n      <th>Country</th>\n      <th>Famine</th>\n    </tr>\n  </thead>\n  <tbody>\n    <tr>\n      <th>2</th>\n      <td>Afghanistan</td>\n      <td>36</td>\n    </tr>\n    <tr>\n      <th>7</th>\n      <td>Albania</td>\n      <td>0</td>\n    </tr>\n    <tr>\n      <th>12</th>\n      <td>Algeria</td>\n      <td>0</td>\n    </tr>\n    <tr>\n      <th>17</th>\n      <td>American Samoa</td>\n      <td>0</td>\n    </tr>\n    <tr>\n      <th>22</th>\n      <td>Angola</td>\n      <td>58</td>\n    </tr>\n    <tr>\n      <th>...</th>\n      <td>...</td>\n      <td>...</td>\n    </tr>\n    <tr>\n      <th>947</th>\n      <td>Vietnam</td>\n      <td>0</td>\n    </tr>\n    <tr>\n      <th>952</th>\n      <td>Virgin Islands, U.S.</td>\n      <td>0</td>\n    </tr>\n    <tr>\n      <th>957</th>\n      <td>Yemen</td>\n      <td>0</td>\n    </tr>\n    <tr>\n      <th>962</th>\n      <td>Zambia</td>\n      <td>0</td>\n    </tr>\n    <tr>\n      <th>967</th>\n      <td>Zimbabwe</td>\n      <td>0</td>\n    </tr>\n  </tbody>\n</table>\n<p>194 rows × 2 columns</p>\n</div>"
     },
     "metadata": {},
     "execution_count": 97
    }
   ],
   "source": [
    "fDeath"
   ]
  },
  {
   "cell_type": "code",
   "execution_count": 98,
   "metadata": {},
   "outputs": [],
   "source": [
    "nDeath = nDeath.rename(columns= {'Deaths': 'Natural Disaster'})"
   ]
  },
  {
   "cell_type": "code",
   "execution_count": 99,
   "metadata": {},
   "outputs": [],
   "source": [
    "oDeath = oDeath.rename(columns= {'Deaths': 'Other Injuries'})"
   ]
  },
  {
   "cell_type": "code",
   "execution_count": 100,
   "metadata": {},
   "outputs": [],
   "source": [
    "# Merging each data frame to one by one \n",
    "worldDeath = pd.merge(tDeath,eDeath, on=[\"Country\"], how=\"inner\")"
   ]
  },
  {
   "cell_type": "code",
   "execution_count": 101,
   "metadata": {},
   "outputs": [
    {
     "output_type": "execute_result",
     "data": {
      "text/plain": "                  Country  Conflict and Terrorism  Epidemics\n0             Afghanistan                  651211       2352\n1                 Albania                    2101         25\n2                 Algeria                   30919        173\n3          American Samoa                      10          0\n4                  Angola                  110906      12912\n..                    ...                     ...        ...\n189               Vietnam                     275       1712\n190  Virgin Islands, U.S.                       4          0\n191                 Yemen                   65961       2080\n192                Zambia                     227      12083\n193              Zimbabwe                     750       8793\n\n[194 rows x 3 columns]",
      "text/html": "<div>\n<style scoped>\n    .dataframe tbody tr th:only-of-type {\n        vertical-align: middle;\n    }\n\n    .dataframe tbody tr th {\n        vertical-align: top;\n    }\n\n    .dataframe thead th {\n        text-align: right;\n    }\n</style>\n<table border=\"1\" class=\"dataframe\">\n  <thead>\n    <tr style=\"text-align: right;\">\n      <th></th>\n      <th>Country</th>\n      <th>Conflict and Terrorism</th>\n      <th>Epidemics</th>\n    </tr>\n  </thead>\n  <tbody>\n    <tr>\n      <th>0</th>\n      <td>Afghanistan</td>\n      <td>651211</td>\n      <td>2352</td>\n    </tr>\n    <tr>\n      <th>1</th>\n      <td>Albania</td>\n      <td>2101</td>\n      <td>25</td>\n    </tr>\n    <tr>\n      <th>2</th>\n      <td>Algeria</td>\n      <td>30919</td>\n      <td>173</td>\n    </tr>\n    <tr>\n      <th>3</th>\n      <td>American Samoa</td>\n      <td>10</td>\n      <td>0</td>\n    </tr>\n    <tr>\n      <th>4</th>\n      <td>Angola</td>\n      <td>110906</td>\n      <td>12912</td>\n    </tr>\n    <tr>\n      <th>...</th>\n      <td>...</td>\n      <td>...</td>\n      <td>...</td>\n    </tr>\n    <tr>\n      <th>189</th>\n      <td>Vietnam</td>\n      <td>275</td>\n      <td>1712</td>\n    </tr>\n    <tr>\n      <th>190</th>\n      <td>Virgin Islands, U.S.</td>\n      <td>4</td>\n      <td>0</td>\n    </tr>\n    <tr>\n      <th>191</th>\n      <td>Yemen</td>\n      <td>65961</td>\n      <td>2080</td>\n    </tr>\n    <tr>\n      <th>192</th>\n      <td>Zambia</td>\n      <td>227</td>\n      <td>12083</td>\n    </tr>\n    <tr>\n      <th>193</th>\n      <td>Zimbabwe</td>\n      <td>750</td>\n      <td>8793</td>\n    </tr>\n  </tbody>\n</table>\n<p>194 rows × 3 columns</p>\n</div>"
     },
     "metadata": {},
     "execution_count": 101
    }
   ],
   "source": [
    "worldDeath"
   ]
  },
  {
   "cell_type": "code",
   "execution_count": 102,
   "metadata": {},
   "outputs": [],
   "source": [
    "worldDeath = pd.merge(worldDeath,fDeath, on=[\"Country\"], how=\"inner\")"
   ]
  },
  {
   "cell_type": "code",
   "execution_count": 103,
   "metadata": {},
   "outputs": [
    {
     "output_type": "execute_result",
     "data": {
      "text/plain": "                  Country  Conflict and Terrorism  Epidemics  Famine\n0             Afghanistan                  651211       2352      36\n1                 Albania                    2101         25       0\n2                 Algeria                   30919        173       0\n3          American Samoa                      10          0       0\n4                  Angola                  110906      12912      58\n..                    ...                     ...        ...     ...\n189               Vietnam                     275       1712       0\n190  Virgin Islands, U.S.                       4          0       0\n191                 Yemen                   65961       2080       0\n192                Zambia                     227      12083       0\n193              Zimbabwe                     750       8793       0\n\n[194 rows x 4 columns]",
      "text/html": "<div>\n<style scoped>\n    .dataframe tbody tr th:only-of-type {\n        vertical-align: middle;\n    }\n\n    .dataframe tbody tr th {\n        vertical-align: top;\n    }\n\n    .dataframe thead th {\n        text-align: right;\n    }\n</style>\n<table border=\"1\" class=\"dataframe\">\n  <thead>\n    <tr style=\"text-align: right;\">\n      <th></th>\n      <th>Country</th>\n      <th>Conflict and Terrorism</th>\n      <th>Epidemics</th>\n      <th>Famine</th>\n    </tr>\n  </thead>\n  <tbody>\n    <tr>\n      <th>0</th>\n      <td>Afghanistan</td>\n      <td>651211</td>\n      <td>2352</td>\n      <td>36</td>\n    </tr>\n    <tr>\n      <th>1</th>\n      <td>Albania</td>\n      <td>2101</td>\n      <td>25</td>\n      <td>0</td>\n    </tr>\n    <tr>\n      <th>2</th>\n      <td>Algeria</td>\n      <td>30919</td>\n      <td>173</td>\n      <td>0</td>\n    </tr>\n    <tr>\n      <th>3</th>\n      <td>American Samoa</td>\n      <td>10</td>\n      <td>0</td>\n      <td>0</td>\n    </tr>\n    <tr>\n      <th>4</th>\n      <td>Angola</td>\n      <td>110906</td>\n      <td>12912</td>\n      <td>58</td>\n    </tr>\n    <tr>\n      <th>...</th>\n      <td>...</td>\n      <td>...</td>\n      <td>...</td>\n      <td>...</td>\n    </tr>\n    <tr>\n      <th>189</th>\n      <td>Vietnam</td>\n      <td>275</td>\n      <td>1712</td>\n      <td>0</td>\n    </tr>\n    <tr>\n      <th>190</th>\n      <td>Virgin Islands, U.S.</td>\n      <td>4</td>\n      <td>0</td>\n      <td>0</td>\n    </tr>\n    <tr>\n      <th>191</th>\n      <td>Yemen</td>\n      <td>65961</td>\n      <td>2080</td>\n      <td>0</td>\n    </tr>\n    <tr>\n      <th>192</th>\n      <td>Zambia</td>\n      <td>227</td>\n      <td>12083</td>\n      <td>0</td>\n    </tr>\n    <tr>\n      <th>193</th>\n      <td>Zimbabwe</td>\n      <td>750</td>\n      <td>8793</td>\n      <td>0</td>\n    </tr>\n  </tbody>\n</table>\n<p>194 rows × 4 columns</p>\n</div>"
     },
     "metadata": {},
     "execution_count": 103
    }
   ],
   "source": [
    "worldDeath"
   ]
  },
  {
   "cell_type": "code",
   "execution_count": 104,
   "metadata": {},
   "outputs": [],
   "source": [
    "worldDeath = pd.merge(worldDeath,nDeath, on=[\"Country\"], how=\"inner\")"
   ]
  },
  {
   "cell_type": "code",
   "execution_count": 105,
   "metadata": {},
   "outputs": [],
   "source": [
    "worldDeath = pd.merge(worldDeath,oDeath, on=[\"Country\"], how=\"inner\")"
   ]
  },
  {
   "cell_type": "code",
   "execution_count": 106,
   "metadata": {},
   "outputs": [
    {
     "output_type": "execute_result",
     "data": {
      "text/plain": "                  Country  Conflict and Terrorism  Epidemics  Famine  \\\n0             Afghanistan                  651211       2352      36   \n1                 Albania                    2101         25       0   \n2                 Algeria                   30919        173       0   \n3          American Samoa                      10          0       0   \n4                  Angola                  110906      12912      58   \n..                    ...                     ...        ...     ...   \n189               Vietnam                     275       1712       0   \n190  Virgin Islands, U.S.                       4          0       0   \n191                 Yemen                   65961       2080       0   \n192                Zambia                     227      12083       0   \n193              Zimbabwe                     750       8793       0   \n\n     Natural Disaster  Other Injuries  \n0               15350            5587  \n1                  96             222  \n2                6820            1711  \n3                  41               0  \n4                 703            1805  \n..                ...             ...  \n189             15281            2104  \n190                17               0  \n191              3140            3923  \n192                69            1159  \n193               299            1052  \n\n[194 rows x 6 columns]",
      "text/html": "<div>\n<style scoped>\n    .dataframe tbody tr th:only-of-type {\n        vertical-align: middle;\n    }\n\n    .dataframe tbody tr th {\n        vertical-align: top;\n    }\n\n    .dataframe thead th {\n        text-align: right;\n    }\n</style>\n<table border=\"1\" class=\"dataframe\">\n  <thead>\n    <tr style=\"text-align: right;\">\n      <th></th>\n      <th>Country</th>\n      <th>Conflict and Terrorism</th>\n      <th>Epidemics</th>\n      <th>Famine</th>\n      <th>Natural Disaster</th>\n      <th>Other Injuries</th>\n    </tr>\n  </thead>\n  <tbody>\n    <tr>\n      <th>0</th>\n      <td>Afghanistan</td>\n      <td>651211</td>\n      <td>2352</td>\n      <td>36</td>\n      <td>15350</td>\n      <td>5587</td>\n    </tr>\n    <tr>\n      <th>1</th>\n      <td>Albania</td>\n      <td>2101</td>\n      <td>25</td>\n      <td>0</td>\n      <td>96</td>\n      <td>222</td>\n    </tr>\n    <tr>\n      <th>2</th>\n      <td>Algeria</td>\n      <td>30919</td>\n      <td>173</td>\n      <td>0</td>\n      <td>6820</td>\n      <td>1711</td>\n    </tr>\n    <tr>\n      <th>3</th>\n      <td>American Samoa</td>\n      <td>10</td>\n      <td>0</td>\n      <td>0</td>\n      <td>41</td>\n      <td>0</td>\n    </tr>\n    <tr>\n      <th>4</th>\n      <td>Angola</td>\n      <td>110906</td>\n      <td>12912</td>\n      <td>58</td>\n      <td>703</td>\n      <td>1805</td>\n    </tr>\n    <tr>\n      <th>...</th>\n      <td>...</td>\n      <td>...</td>\n      <td>...</td>\n      <td>...</td>\n      <td>...</td>\n      <td>...</td>\n    </tr>\n    <tr>\n      <th>189</th>\n      <td>Vietnam</td>\n      <td>275</td>\n      <td>1712</td>\n      <td>0</td>\n      <td>15281</td>\n      <td>2104</td>\n    </tr>\n    <tr>\n      <th>190</th>\n      <td>Virgin Islands, U.S.</td>\n      <td>4</td>\n      <td>0</td>\n      <td>0</td>\n      <td>17</td>\n      <td>0</td>\n    </tr>\n    <tr>\n      <th>191</th>\n      <td>Yemen</td>\n      <td>65961</td>\n      <td>2080</td>\n      <td>0</td>\n      <td>3140</td>\n      <td>3923</td>\n    </tr>\n    <tr>\n      <th>192</th>\n      <td>Zambia</td>\n      <td>227</td>\n      <td>12083</td>\n      <td>0</td>\n      <td>69</td>\n      <td>1159</td>\n    </tr>\n    <tr>\n      <th>193</th>\n      <td>Zimbabwe</td>\n      <td>750</td>\n      <td>8793</td>\n      <td>0</td>\n      <td>299</td>\n      <td>1052</td>\n    </tr>\n  </tbody>\n</table>\n<p>194 rows × 6 columns</p>\n</div>"
     },
     "metadata": {},
     "execution_count": 106
    }
   ],
   "source": [
    "#this is our final data frame for which show causued of death in each country \n",
    "worldDeath"
   ]
  },
  {
   "cell_type": "code",
   "execution_count": 107,
   "metadata": {},
   "outputs": [],
   "source": [
    "#Laoding coronovirus data set \n",
    "covidData = \"/Users/ankbohra/Desktop/ETL-PROJECT/Covid/Resource/coviddata.csv\""
   ]
  },
  {
   "cell_type": "code",
   "execution_count": 108,
   "metadata": {},
   "outputs": [],
   "source": [
    "covidData1 = pd.read_csv(covidData)"
   ]
  },
  {
   "cell_type": "code",
   "execution_count": 109,
   "metadata": {},
   "outputs": [
    {
     "output_type": "execute_result",
     "data": {
      "text/plain": "                         Name       WHO Region  Cases - cumulative total  \\\n0                      Global           Global                 178503429   \n1    United States of America         Americas                  33190195   \n2                       India  South-East Asia                  29977861   \n3                      Brazil         Americas                  17927928   \n4                      France           Europe                   5650315   \n..                        ...              ...                       ...   \n233              Saint Helena           Africa                         0   \n234                   Tokelau  Western Pacific                         0   \n235                     Tonga  Western Pacific                         0   \n236              Turkmenistan           Europe                         0   \n237                    Tuvalu  Western Pacific                         0   \n\n     Cases - cumulative total per 100000 population  \\\n0                                       2290.108471   \n1                                      10027.170000   \n2                                       2172.300000   \n3                                       8434.310000   \n4                                       8687.530000   \n..                                              ...   \n233                                        0.000000   \n234                                        0.000000   \n235                                        0.000000   \n236                                        0.000000   \n237                                        0.000000   \n\n     Cases - newly reported in last 7 days  \\\n0                                  2504100   \n1                                    49697   \n2                                   406980   \n3                                   515162   \n4                                    14066   \n..                                     ...   \n233                                      0   \n234                                      0   \n235                                      0   \n236                                      0   \n237                                      0   \n\n     Cases - newly reported in last 7 days per 100000 population  \\\n0                                            32.126333             \n1                                            15.010000             \n2                                            29.490000             \n3                                           242.360000             \n4                                            21.630000             \n..                                                 ...             \n233                                           0.000000             \n234                                           0.000000             \n235                                           0.000000             \n236                                           0.000000             \n237                                           0.000000             \n\n     Cases - newly reported in last 24 hours  Deaths - cumulative total  \\\n0                                     281610                    3872457   \n1                                          0                     596003   \n2                                      42640                     389302   \n3                                      44178                     501825   \n4                                        290                     109879   \n..                                       ...                        ...   \n233                                        0                          0   \n234                                        0                          0   \n235                                        0                          0   \n236                                        0                          0   \n237                                        0                          0   \n\n     Deaths - cumulative total per 100000 population  \\\n0                                          49.681659   \n1                                         180.060000   \n2                                          28.210000   \n3                                         236.090000   \n4                                         168.940000   \n..                                               ...   \n233                                         0.000000   \n234                                         0.000000   \n235                                         0.000000   \n236                                         0.000000   \n237                                         0.000000   \n\n     Deaths - newly reported in last 7 days  \\\n0                                     60068   \n1                                      1359   \n2                                     12271   \n3                                     14424   \n4                                       307   \n..                                      ...   \n233                                       0   \n234                                       0   \n235                                       0   \n236                                       0   \n237                                       0   \n\n     Deaths - newly reported in last 7 days per 100000 population  \\\n0                                             0.770642              \n1                                             0.410000              \n2                                             0.890000              \n3                                             6.790000              \n4                                             0.470000              \n..                                                 ...              \n233                                           0.000000              \n234                                           0.000000              \n235                                           0.000000              \n236                                           0.000000              \n237                                           0.000000              \n\n     Deaths - newly reported in last 24 hours Transmission Classification  \n0                                        6349                         NaN  \n1                                           0      Community transmission  \n2                                        1167           Clusters of cases  \n3                                        1025      Community transmission  \n4                                          39      Community transmission  \n..                                        ...                         ...  \n233                                         0                    No cases  \n234                                         0                    No cases  \n235                                         0                    No cases  \n236                                         0                    No cases  \n237                                         0                    No cases  \n\n[238 rows x 13 columns]",
      "text/html": "<div>\n<style scoped>\n    .dataframe tbody tr th:only-of-type {\n        vertical-align: middle;\n    }\n\n    .dataframe tbody tr th {\n        vertical-align: top;\n    }\n\n    .dataframe thead th {\n        text-align: right;\n    }\n</style>\n<table border=\"1\" class=\"dataframe\">\n  <thead>\n    <tr style=\"text-align: right;\">\n      <th></th>\n      <th>Name</th>\n      <th>WHO Region</th>\n      <th>Cases - cumulative total</th>\n      <th>Cases - cumulative total per 100000 population</th>\n      <th>Cases - newly reported in last 7 days</th>\n      <th>Cases - newly reported in last 7 days per 100000 population</th>\n      <th>Cases - newly reported in last 24 hours</th>\n      <th>Deaths - cumulative total</th>\n      <th>Deaths - cumulative total per 100000 population</th>\n      <th>Deaths - newly reported in last 7 days</th>\n      <th>Deaths - newly reported in last 7 days per 100000 population</th>\n      <th>Deaths - newly reported in last 24 hours</th>\n      <th>Transmission Classification</th>\n    </tr>\n  </thead>\n  <tbody>\n    <tr>\n      <th>0</th>\n      <td>Global</td>\n      <td>Global</td>\n      <td>178503429</td>\n      <td>2290.108471</td>\n      <td>2504100</td>\n      <td>32.126333</td>\n      <td>281610</td>\n      <td>3872457</td>\n      <td>49.681659</td>\n      <td>60068</td>\n      <td>0.770642</td>\n      <td>6349</td>\n      <td>NaN</td>\n    </tr>\n    <tr>\n      <th>1</th>\n      <td>United States of America</td>\n      <td>Americas</td>\n      <td>33190195</td>\n      <td>10027.170000</td>\n      <td>49697</td>\n      <td>15.010000</td>\n      <td>0</td>\n      <td>596003</td>\n      <td>180.060000</td>\n      <td>1359</td>\n      <td>0.410000</td>\n      <td>0</td>\n      <td>Community transmission</td>\n    </tr>\n    <tr>\n      <th>2</th>\n      <td>India</td>\n      <td>South-East Asia</td>\n      <td>29977861</td>\n      <td>2172.300000</td>\n      <td>406980</td>\n      <td>29.490000</td>\n      <td>42640</td>\n      <td>389302</td>\n      <td>28.210000</td>\n      <td>12271</td>\n      <td>0.890000</td>\n      <td>1167</td>\n      <td>Clusters of cases</td>\n    </tr>\n    <tr>\n      <th>3</th>\n      <td>Brazil</td>\n      <td>Americas</td>\n      <td>17927928</td>\n      <td>8434.310000</td>\n      <td>515162</td>\n      <td>242.360000</td>\n      <td>44178</td>\n      <td>501825</td>\n      <td>236.090000</td>\n      <td>14424</td>\n      <td>6.790000</td>\n      <td>1025</td>\n      <td>Community transmission</td>\n    </tr>\n    <tr>\n      <th>4</th>\n      <td>France</td>\n      <td>Europe</td>\n      <td>5650315</td>\n      <td>8687.530000</td>\n      <td>14066</td>\n      <td>21.630000</td>\n      <td>290</td>\n      <td>109879</td>\n      <td>168.940000</td>\n      <td>307</td>\n      <td>0.470000</td>\n      <td>39</td>\n      <td>Community transmission</td>\n    </tr>\n    <tr>\n      <th>...</th>\n      <td>...</td>\n      <td>...</td>\n      <td>...</td>\n      <td>...</td>\n      <td>...</td>\n      <td>...</td>\n      <td>...</td>\n      <td>...</td>\n      <td>...</td>\n      <td>...</td>\n      <td>...</td>\n      <td>...</td>\n      <td>...</td>\n    </tr>\n    <tr>\n      <th>233</th>\n      <td>Saint Helena</td>\n      <td>Africa</td>\n      <td>0</td>\n      <td>0.000000</td>\n      <td>0</td>\n      <td>0.000000</td>\n      <td>0</td>\n      <td>0</td>\n      <td>0.000000</td>\n      <td>0</td>\n      <td>0.000000</td>\n      <td>0</td>\n      <td>No cases</td>\n    </tr>\n    <tr>\n      <th>234</th>\n      <td>Tokelau</td>\n      <td>Western Pacific</td>\n      <td>0</td>\n      <td>0.000000</td>\n      <td>0</td>\n      <td>0.000000</td>\n      <td>0</td>\n      <td>0</td>\n      <td>0.000000</td>\n      <td>0</td>\n      <td>0.000000</td>\n      <td>0</td>\n      <td>No cases</td>\n    </tr>\n    <tr>\n      <th>235</th>\n      <td>Tonga</td>\n      <td>Western Pacific</td>\n      <td>0</td>\n      <td>0.000000</td>\n      <td>0</td>\n      <td>0.000000</td>\n      <td>0</td>\n      <td>0</td>\n      <td>0.000000</td>\n      <td>0</td>\n      <td>0.000000</td>\n      <td>0</td>\n      <td>No cases</td>\n    </tr>\n    <tr>\n      <th>236</th>\n      <td>Turkmenistan</td>\n      <td>Europe</td>\n      <td>0</td>\n      <td>0.000000</td>\n      <td>0</td>\n      <td>0.000000</td>\n      <td>0</td>\n      <td>0</td>\n      <td>0.000000</td>\n      <td>0</td>\n      <td>0.000000</td>\n      <td>0</td>\n      <td>No cases</td>\n    </tr>\n    <tr>\n      <th>237</th>\n      <td>Tuvalu</td>\n      <td>Western Pacific</td>\n      <td>0</td>\n      <td>0.000000</td>\n      <td>0</td>\n      <td>0.000000</td>\n      <td>0</td>\n      <td>0</td>\n      <td>0.000000</td>\n      <td>0</td>\n      <td>0.000000</td>\n      <td>0</td>\n      <td>No cases</td>\n    </tr>\n  </tbody>\n</table>\n<p>238 rows × 13 columns</p>\n</div>"
     },
     "metadata": {},
     "execution_count": 109
    }
   ],
   "source": [
    "covidData1"
   ]
  },
  {
   "cell_type": "code",
   "execution_count": 110,
   "metadata": {},
   "outputs": [],
   "source": [
    "# we are extracting only 3 column for our analysis\n",
    "covidData2 = covidData1[[\"Name\", \"WHO Region\", \"Deaths - cumulative total\"]]"
   ]
  },
  {
   "cell_type": "code",
   "execution_count": 111,
   "metadata": {},
   "outputs": [
    {
     "output_type": "execute_result",
     "data": {
      "text/plain": "                         Name       WHO Region  Deaths - cumulative total\n0                      Global           Global                    3872457\n1    United States of America         Americas                     596003\n2                       India  South-East Asia                     389302\n3                      Brazil         Americas                     501825\n4                      France           Europe                     109879\n..                        ...              ...                        ...\n233              Saint Helena           Africa                          0\n234                   Tokelau  Western Pacific                          0\n235                     Tonga  Western Pacific                          0\n236              Turkmenistan           Europe                          0\n237                    Tuvalu  Western Pacific                          0\n\n[238 rows x 3 columns]",
      "text/html": "<div>\n<style scoped>\n    .dataframe tbody tr th:only-of-type {\n        vertical-align: middle;\n    }\n\n    .dataframe tbody tr th {\n        vertical-align: top;\n    }\n\n    .dataframe thead th {\n        text-align: right;\n    }\n</style>\n<table border=\"1\" class=\"dataframe\">\n  <thead>\n    <tr style=\"text-align: right;\">\n      <th></th>\n      <th>Name</th>\n      <th>WHO Region</th>\n      <th>Deaths - cumulative total</th>\n    </tr>\n  </thead>\n  <tbody>\n    <tr>\n      <th>0</th>\n      <td>Global</td>\n      <td>Global</td>\n      <td>3872457</td>\n    </tr>\n    <tr>\n      <th>1</th>\n      <td>United States of America</td>\n      <td>Americas</td>\n      <td>596003</td>\n    </tr>\n    <tr>\n      <th>2</th>\n      <td>India</td>\n      <td>South-East Asia</td>\n      <td>389302</td>\n    </tr>\n    <tr>\n      <th>3</th>\n      <td>Brazil</td>\n      <td>Americas</td>\n      <td>501825</td>\n    </tr>\n    <tr>\n      <th>4</th>\n      <td>France</td>\n      <td>Europe</td>\n      <td>109879</td>\n    </tr>\n    <tr>\n      <th>...</th>\n      <td>...</td>\n      <td>...</td>\n      <td>...</td>\n    </tr>\n    <tr>\n      <th>233</th>\n      <td>Saint Helena</td>\n      <td>Africa</td>\n      <td>0</td>\n    </tr>\n    <tr>\n      <th>234</th>\n      <td>Tokelau</td>\n      <td>Western Pacific</td>\n      <td>0</td>\n    </tr>\n    <tr>\n      <th>235</th>\n      <td>Tonga</td>\n      <td>Western Pacific</td>\n      <td>0</td>\n    </tr>\n    <tr>\n      <th>236</th>\n      <td>Turkmenistan</td>\n      <td>Europe</td>\n      <td>0</td>\n    </tr>\n    <tr>\n      <th>237</th>\n      <td>Tuvalu</td>\n      <td>Western Pacific</td>\n      <td>0</td>\n    </tr>\n  </tbody>\n</table>\n<p>238 rows × 3 columns</p>\n</div>"
     },
     "metadata": {},
     "execution_count": 111
    }
   ],
   "source": [
    "covidData2"
   ]
  },
  {
   "cell_type": "code",
   "execution_count": 112,
   "metadata": {},
   "outputs": [],
   "source": [
    "# rename the coume \n",
    "covidData2 = covidData2.rename(columns= {'Name': 'Country'})\n"
   ]
  },
  {
   "cell_type": "code",
   "execution_count": 113,
   "metadata": {},
   "outputs": [],
   "source": [
    "# merging our world heath and covidData2 data frame \n",
    "Totaldeath = pd.merge(worldDeath,covidData2, on=[\"Country\"], how=\"inner\")"
   ]
  },
  {
   "cell_type": "code",
   "execution_count": 114,
   "metadata": {},
   "outputs": [
    {
     "output_type": "execute_result",
     "data": {
      "text/plain": "            Country  Conflict and Terrorism  Epidemics  Famine  \\\n0       Afghanistan                  651211       2352      36   \n1           Albania                    2101         25       0   \n2           Algeria                   30919        173       0   \n3    American Samoa                      10          0       0   \n4            Angola                  110906      12912      58   \n..              ...                     ...        ...     ...   \n164      Uzbekistan                     877        376       0   \n165         Vanuatu                       0          0       0   \n166           Yemen                   65961       2080       0   \n167          Zambia                     227      12083       0   \n168        Zimbabwe                     750       8793       0   \n\n     Natural Disaster  Other Injuries             WHO Region  \\\n0               15350            5587  Eastern Mediterranean   \n1                  96             222                 Europe   \n2                6820            1711                 Africa   \n3                  41               0        Western Pacific   \n4                 703            1805                 Africa   \n..                ...             ...                    ...   \n164                61              27                 Europe   \n165               233               0        Western Pacific   \n166              3140            3923  Eastern Mediterranean   \n167                69            1159                 Africa   \n168               299            1052                 Africa   \n\n     Deaths - cumulative total  \n0                         4293  \n1                         2454  \n2                         3641  \n3                            0  \n4                          868  \n..                         ...  \n164                        720  \n165                          0  \n166                       1355  \n167                       1691  \n168                       1685  \n\n[169 rows x 8 columns]",
      "text/html": "<div>\n<style scoped>\n    .dataframe tbody tr th:only-of-type {\n        vertical-align: middle;\n    }\n\n    .dataframe tbody tr th {\n        vertical-align: top;\n    }\n\n    .dataframe thead th {\n        text-align: right;\n    }\n</style>\n<table border=\"1\" class=\"dataframe\">\n  <thead>\n    <tr style=\"text-align: right;\">\n      <th></th>\n      <th>Country</th>\n      <th>Conflict and Terrorism</th>\n      <th>Epidemics</th>\n      <th>Famine</th>\n      <th>Natural Disaster</th>\n      <th>Other Injuries</th>\n      <th>WHO Region</th>\n      <th>Deaths - cumulative total</th>\n    </tr>\n  </thead>\n  <tbody>\n    <tr>\n      <th>0</th>\n      <td>Afghanistan</td>\n      <td>651211</td>\n      <td>2352</td>\n      <td>36</td>\n      <td>15350</td>\n      <td>5587</td>\n      <td>Eastern Mediterranean</td>\n      <td>4293</td>\n    </tr>\n    <tr>\n      <th>1</th>\n      <td>Albania</td>\n      <td>2101</td>\n      <td>25</td>\n      <td>0</td>\n      <td>96</td>\n      <td>222</td>\n      <td>Europe</td>\n      <td>2454</td>\n    </tr>\n    <tr>\n      <th>2</th>\n      <td>Algeria</td>\n      <td>30919</td>\n      <td>173</td>\n      <td>0</td>\n      <td>6820</td>\n      <td>1711</td>\n      <td>Africa</td>\n      <td>3641</td>\n    </tr>\n    <tr>\n      <th>3</th>\n      <td>American Samoa</td>\n      <td>10</td>\n      <td>0</td>\n      <td>0</td>\n      <td>41</td>\n      <td>0</td>\n      <td>Western Pacific</td>\n      <td>0</td>\n    </tr>\n    <tr>\n      <th>4</th>\n      <td>Angola</td>\n      <td>110906</td>\n      <td>12912</td>\n      <td>58</td>\n      <td>703</td>\n      <td>1805</td>\n      <td>Africa</td>\n      <td>868</td>\n    </tr>\n    <tr>\n      <th>...</th>\n      <td>...</td>\n      <td>...</td>\n      <td>...</td>\n      <td>...</td>\n      <td>...</td>\n      <td>...</td>\n      <td>...</td>\n      <td>...</td>\n    </tr>\n    <tr>\n      <th>164</th>\n      <td>Uzbekistan</td>\n      <td>877</td>\n      <td>376</td>\n      <td>0</td>\n      <td>61</td>\n      <td>27</td>\n      <td>Europe</td>\n      <td>720</td>\n    </tr>\n    <tr>\n      <th>165</th>\n      <td>Vanuatu</td>\n      <td>0</td>\n      <td>0</td>\n      <td>0</td>\n      <td>233</td>\n      <td>0</td>\n      <td>Western Pacific</td>\n      <td>0</td>\n    </tr>\n    <tr>\n      <th>166</th>\n      <td>Yemen</td>\n      <td>65961</td>\n      <td>2080</td>\n      <td>0</td>\n      <td>3140</td>\n      <td>3923</td>\n      <td>Eastern Mediterranean</td>\n      <td>1355</td>\n    </tr>\n    <tr>\n      <th>167</th>\n      <td>Zambia</td>\n      <td>227</td>\n      <td>12083</td>\n      <td>0</td>\n      <td>69</td>\n      <td>1159</td>\n      <td>Africa</td>\n      <td>1691</td>\n    </tr>\n    <tr>\n      <th>168</th>\n      <td>Zimbabwe</td>\n      <td>750</td>\n      <td>8793</td>\n      <td>0</td>\n      <td>299</td>\n      <td>1052</td>\n      <td>Africa</td>\n      <td>1685</td>\n    </tr>\n  </tbody>\n</table>\n<p>169 rows × 8 columns</p>\n</div>"
     },
     "metadata": {},
     "execution_count": 114
    }
   ],
   "source": [
    "Totaldeath"
   ]
  },
  {
   "cell_type": "code",
   "execution_count": 115,
   "metadata": {},
   "outputs": [],
   "source": [
    "Totaldeath = Totaldeath.rename(columns={\"Deaths - cumulative total\": \"Coronovirus\"})"
   ]
  },
  {
   "cell_type": "code",
   "execution_count": 116,
   "metadata": {},
   "outputs": [],
   "source": [
    "# Extracting the data fram to CSV file \n",
    "Totaldeath.to_csv(\"Totaldeath.csv\")"
   ]
  },
  {
   "cell_type": "code",
   "execution_count": 117,
   "metadata": {},
   "outputs": [],
   "source": [
    "#deathByReagion = pd.DataFrame({\"Conflict and Terrorism\": Totaldeath.groupby([\"WHO Region\"]),[\"Conflict and Terrorism\"].sum()})\n",
    "deathByReagion = pd.DataFrame({\"Terrorism\":Totaldeath.groupby([\"WHO Region\"])[\"Conflict and Terrorism\"].sum(),\n",
    "                \"Epidemics\":Totaldeath.groupby([\"WHO Region\"])[\"Epidemics\"].sum(),\n",
    "                \"Famine\":Totaldeath.groupby([\"WHO Region\"])[\"Famine\"].sum(),\n",
    "                \"Natural Disaster\":Totaldeath.groupby([\"WHO Region\"])[\"Natural Disaster\"].sum(),\n",
    "                \"Coronovirus\":Totaldeath.groupby([\"WHO Region\"])[\"Coronovirus\"].sum(),\n",
    "                \"Other Injuries\":Totaldeath.groupby([\"WHO Region\"])[\"Other Injuries\"].sum()\n",
    "\n",
    "})"
   ]
  },
  {
   "cell_type": "code",
   "execution_count": 118,
   "metadata": {},
   "outputs": [
    {
     "output_type": "execute_result",
     "data": {
      "text/plain": "                       Terrorism  Epidemics  Famine  Natural Disaster  \\\nWHO Region                                                              \nAfrica                   1823865     287772  404955             28333   \nAmericas                  228841      35233     373            321093   \nEastern Mediterranean    1802661      27885  170804            115708   \nEurope                    190519      15969       0             71742   \nSouth-East Asia           335043      23348    1593            702335   \nWestern Pacific            91351      12934    3446            219750   \n\n                       Coronovirus  Other Injuries  \nWHO Region                                          \nAfrica                       90375          130887  \nAmericas                   1248408          230299  \nEastern Mediterranean       124132           88559  \nEurope                     1002644           95597  \nSouth-East Asia             474870          105719  \nWestern Pacific              50273           45335  ",
      "text/html": "<div>\n<style scoped>\n    .dataframe tbody tr th:only-of-type {\n        vertical-align: middle;\n    }\n\n    .dataframe tbody tr th {\n        vertical-align: top;\n    }\n\n    .dataframe thead th {\n        text-align: right;\n    }\n</style>\n<table border=\"1\" class=\"dataframe\">\n  <thead>\n    <tr style=\"text-align: right;\">\n      <th></th>\n      <th>Terrorism</th>\n      <th>Epidemics</th>\n      <th>Famine</th>\n      <th>Natural Disaster</th>\n      <th>Coronovirus</th>\n      <th>Other Injuries</th>\n    </tr>\n    <tr>\n      <th>WHO Region</th>\n      <th></th>\n      <th></th>\n      <th></th>\n      <th></th>\n      <th></th>\n      <th></th>\n    </tr>\n  </thead>\n  <tbody>\n    <tr>\n      <th>Africa</th>\n      <td>1823865</td>\n      <td>287772</td>\n      <td>404955</td>\n      <td>28333</td>\n      <td>90375</td>\n      <td>130887</td>\n    </tr>\n    <tr>\n      <th>Americas</th>\n      <td>228841</td>\n      <td>35233</td>\n      <td>373</td>\n      <td>321093</td>\n      <td>1248408</td>\n      <td>230299</td>\n    </tr>\n    <tr>\n      <th>Eastern Mediterranean</th>\n      <td>1802661</td>\n      <td>27885</td>\n      <td>170804</td>\n      <td>115708</td>\n      <td>124132</td>\n      <td>88559</td>\n    </tr>\n    <tr>\n      <th>Europe</th>\n      <td>190519</td>\n      <td>15969</td>\n      <td>0</td>\n      <td>71742</td>\n      <td>1002644</td>\n      <td>95597</td>\n    </tr>\n    <tr>\n      <th>South-East Asia</th>\n      <td>335043</td>\n      <td>23348</td>\n      <td>1593</td>\n      <td>702335</td>\n      <td>474870</td>\n      <td>105719</td>\n    </tr>\n    <tr>\n      <th>Western Pacific</th>\n      <td>91351</td>\n      <td>12934</td>\n      <td>3446</td>\n      <td>219750</td>\n      <td>50273</td>\n      <td>45335</td>\n    </tr>\n  </tbody>\n</table>\n</div>"
     },
     "metadata": {},
     "execution_count": 118
    }
   ],
   "source": [
    "# we can also analysis cause of death happen in WHO region\n",
    "deathByReagion"
   ]
  },
  {
   "cell_type": "code",
   "execution_count": 119,
   "metadata": {},
   "outputs": [],
   "source": [
    "#Loading our data to the AWS database , imorit boto3 service \n",
    "import boto3\n",
    "# Let's use Amazon S3\n",
    "s3 = boto3.resource('s3')"
   ]
  },
  {
   "cell_type": "code",
   "execution_count": 120,
   "metadata": {
    "tags": []
   },
   "outputs": [
    {
     "output_type": "stream",
     "name": "stdout",
     "text": "employee99\ntestdata99\numemppoyment\n"
    }
   ],
   "source": [
    "# Print out bucket names\n",
    "for bucket in s3.buckets.all():\n",
    "    print(bucket.name)"
   ]
  },
  {
   "cell_type": "code",
   "execution_count": 121,
   "metadata": {},
   "outputs": [],
   "source": [
    "datauuuu = open('/Users/ankbohra/Desktop/ETL-PROJECT/Covid/Totaldeath.csv', 'rb')"
   ]
  },
  {
   "cell_type": "code",
   "execution_count": 122,
   "metadata": {},
   "outputs": [
    {
     "output_type": "execute_result",
     "data": {
      "text/plain": "s3.Object(bucket_name='umemppoyment', key='newMerge1')"
     },
     "metadata": {},
     "execution_count": 122
    }
   ],
   "source": [
    "s3.Bucket('umemppoyment').put_object(Key='newMerge1', Body=datauuuu)"
   ]
  },
  {
   "cell_type": "code",
   "execution_count": null,
   "metadata": {},
   "outputs": [],
   "source": []
  }
 ],
 "metadata": {
  "language_info": {
   "codemirror_mode": {
    "name": "ipython",
    "version": 3
   },
   "file_extension": ".py",
   "mimetype": "text/x-python",
   "name": "python",
   "nbconvert_exporter": "python",
   "pygments_lexer": "ipython3",
   "version": "3.8.5-final"
  },
  "orig_nbformat": 2,
  "kernelspec": {
   "name": "python3",
   "display_name": "Python 3"
  }
 },
 "nbformat": 4,
 "nbformat_minor": 2
}